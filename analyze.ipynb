{
 "cells": [
  {
   "cell_type": "code",
   "execution_count": 1,
   "id": "comprehensive-lingerie",
   "metadata": {},
   "outputs": [],
   "source": [
    "import pandas as pd\n",
    "import numpy as np\n",
    "import matplotlib.pyplot as plt"
   ]
  },
  {
   "cell_type": "code",
   "execution_count": null,
   "id": "apparent-registration",
   "metadata": {},
   "outputs": [],
   "source": []
  },
  {
   "cell_type": "code",
   "execution_count": 2,
   "id": "internal-holly",
   "metadata": {},
   "outputs": [
    {
     "data": {
      "text/html": [
       "<div>\n",
       "<style scoped>\n",
       "    .dataframe tbody tr th:only-of-type {\n",
       "        vertical-align: middle;\n",
       "    }\n",
       "\n",
       "    .dataframe tbody tr th {\n",
       "        vertical-align: top;\n",
       "    }\n",
       "\n",
       "    .dataframe thead th {\n",
       "        text-align: right;\n",
       "    }\n",
       "</style>\n",
       "<table border=\"1\" class=\"dataframe\">\n",
       "  <thead>\n",
       "    <tr style=\"text-align: right;\">\n",
       "      <th></th>\n",
       "      <th>id</th>\n",
       "      <th>category</th>\n",
       "    </tr>\n",
       "  </thead>\n",
       "  <tbody>\n",
       "    <tr>\n",
       "      <th>0</th>\n",
       "      <td>2_trans_497.csv</td>\n",
       "      <td>1</td>\n",
       "    </tr>\n",
       "    <tr>\n",
       "      <th>1</th>\n",
       "      <td>2_trans_483.csv</td>\n",
       "      <td>1</td>\n",
       "    </tr>\n",
       "    <tr>\n",
       "      <th>2</th>\n",
       "      <td>2_trans_2396.csv</td>\n",
       "      <td>1</td>\n",
       "    </tr>\n",
       "    <tr>\n",
       "      <th>3</th>\n",
       "      <td>2_trans_1847.csv</td>\n",
       "      <td>1</td>\n",
       "    </tr>\n",
       "    <tr>\n",
       "      <th>4</th>\n",
       "      <td>2_trans_2382.csv</td>\n",
       "      <td>1</td>\n",
       "    </tr>\n",
       "  </tbody>\n",
       "</table>\n",
       "</div>"
      ],
      "text/plain": [
       "                 id  category\n",
       "0   2_trans_497.csv         1\n",
       "1   2_trans_483.csv         1\n",
       "2  2_trans_2396.csv         1\n",
       "3  2_trans_1847.csv         1\n",
       "4  2_trans_2382.csv         1"
      ]
     },
     "execution_count": 2,
     "metadata": {},
     "output_type": "execute_result"
    }
   ],
   "source": [
    "file_names = pd.read_csv(\"D:/hahaton/train.csv\")\n",
    "file_names.head()"
   ]
  },
  {
   "cell_type": "code",
   "execution_count": 3,
   "id": "latin-satin",
   "metadata": {},
   "outputs": [
    {
     "data": {
      "text/html": [
       "<div>\n",
       "<style scoped>\n",
       "    .dataframe tbody tr th:only-of-type {\n",
       "        vertical-align: middle;\n",
       "    }\n",
       "\n",
       "    .dataframe tbody tr th {\n",
       "        vertical-align: top;\n",
       "    }\n",
       "\n",
       "    .dataframe thead th {\n",
       "        text-align: right;\n",
       "    }\n",
       "</style>\n",
       "<table border=\"1\" class=\"dataframe\">\n",
       "  <thead>\n",
       "    <tr style=\"text-align: right;\">\n",
       "      <th></th>\n",
       "      <th>H2</th>\n",
       "      <th>CO</th>\n",
       "      <th>C2H4</th>\n",
       "      <th>C2H2</th>\n",
       "      <th>category</th>\n",
       "    </tr>\n",
       "  </thead>\n",
       "  <tbody>\n",
       "    <tr>\n",
       "      <th>415</th>\n",
       "      <td>0.002276</td>\n",
       "      <td>0.041801</td>\n",
       "      <td>0.004549</td>\n",
       "      <td>0.000343</td>\n",
       "      <td>1</td>\n",
       "    </tr>\n",
       "    <tr>\n",
       "      <th>416</th>\n",
       "      <td>0.002281</td>\n",
       "      <td>0.041875</td>\n",
       "      <td>0.004569</td>\n",
       "      <td>0.000344</td>\n",
       "      <td>1</td>\n",
       "    </tr>\n",
       "    <tr>\n",
       "      <th>417</th>\n",
       "      <td>0.002285</td>\n",
       "      <td>0.041950</td>\n",
       "      <td>0.004590</td>\n",
       "      <td>0.000344</td>\n",
       "      <td>1</td>\n",
       "    </tr>\n",
       "    <tr>\n",
       "      <th>418</th>\n",
       "      <td>0.002290</td>\n",
       "      <td>0.042025</td>\n",
       "      <td>0.004610</td>\n",
       "      <td>0.000345</td>\n",
       "      <td>1</td>\n",
       "    </tr>\n",
       "    <tr>\n",
       "      <th>419</th>\n",
       "      <td>0.002294</td>\n",
       "      <td>0.042099</td>\n",
       "      <td>0.004630</td>\n",
       "      <td>0.000345</td>\n",
       "      <td>1</td>\n",
       "    </tr>\n",
       "  </tbody>\n",
       "</table>\n",
       "</div>"
      ],
      "text/plain": [
       "           H2        CO      C2H4      C2H2  category\n",
       "415  0.002276  0.041801  0.004549  0.000343         1\n",
       "416  0.002281  0.041875  0.004569  0.000344         1\n",
       "417  0.002285  0.041950  0.004590  0.000344         1\n",
       "418  0.002290  0.042025  0.004610  0.000345         1\n",
       "419  0.002294  0.042099  0.004630  0.000345         1"
      ]
     },
     "execution_count": 3,
     "metadata": {},
     "output_type": "execute_result"
    }
   ],
   "source": [
    "result = []\n",
    "for i, r in file_names.iterrows():\n",
    "    df = pd.read_csv(\"D:/hahaton/data_train/data_train/\" + r[\"id\"])\n",
    "    df[\"category\"] = r[\"category\"]\n",
    "    result.append(df)\n",
    "result[0].tail()"
   ]
  },
  {
   "cell_type": "code",
   "execution_count": 4,
   "id": "handmade-safety",
   "metadata": {},
   "outputs": [],
   "source": [
    "result = pd.concat(result)"
   ]
  },
  {
   "cell_type": "code",
   "execution_count": 5,
   "id": "waiting-editor",
   "metadata": {},
   "outputs": [
    {
     "data": {
      "text/html": [
       "<div>\n",
       "<style scoped>\n",
       "    .dataframe tbody tr th:only-of-type {\n",
       "        vertical-align: middle;\n",
       "    }\n",
       "\n",
       "    .dataframe tbody tr th {\n",
       "        vertical-align: top;\n",
       "    }\n",
       "\n",
       "    .dataframe thead th {\n",
       "        text-align: right;\n",
       "    }\n",
       "</style>\n",
       "<table border=\"1\" class=\"dataframe\">\n",
       "  <thead>\n",
       "    <tr style=\"text-align: right;\">\n",
       "      <th></th>\n",
       "      <th>H2</th>\n",
       "      <th>CO</th>\n",
       "      <th>C2H4</th>\n",
       "      <th>C2H2</th>\n",
       "      <th>category</th>\n",
       "    </tr>\n",
       "  </thead>\n",
       "  <tbody>\n",
       "    <tr>\n",
       "      <th>count</th>\n",
       "      <td>8.820000e+05</td>\n",
       "      <td>8.820000e+05</td>\n",
       "      <td>8.820000e+05</td>\n",
       "      <td>8.820000e+05</td>\n",
       "      <td>882000.000000</td>\n",
       "    </tr>\n",
       "    <tr>\n",
       "      <th>mean</th>\n",
       "      <td>1.770710e-03</td>\n",
       "      <td>1.707246e-02</td>\n",
       "      <td>4.809312e-03</td>\n",
       "      <td>1.937473e-04</td>\n",
       "      <td>1.425714</td>\n",
       "    </tr>\n",
       "    <tr>\n",
       "      <th>std</th>\n",
       "      <td>9.164189e-04</td>\n",
       "      <td>1.023960e-02</td>\n",
       "      <td>2.868620e-03</td>\n",
       "      <td>1.154310e-04</td>\n",
       "      <td>0.950542</td>\n",
       "    </tr>\n",
       "    <tr>\n",
       "      <th>min</th>\n",
       "      <td>1.784526e-08</td>\n",
       "      <td>1.496807e-08</td>\n",
       "      <td>7.865758e-09</td>\n",
       "      <td>7.897411e-11</td>\n",
       "      <td>1.000000</td>\n",
       "    </tr>\n",
       "    <tr>\n",
       "      <th>25%</th>\n",
       "      <td>1.022670e-03</td>\n",
       "      <td>8.308363e-03</td>\n",
       "      <td>2.383507e-03</td>\n",
       "      <td>9.677079e-05</td>\n",
       "      <td>1.000000</td>\n",
       "    </tr>\n",
       "    <tr>\n",
       "      <th>50%</th>\n",
       "      <td>1.796790e-03</td>\n",
       "      <td>1.690838e-02</td>\n",
       "      <td>4.763536e-03</td>\n",
       "      <td>1.938408e-04</td>\n",
       "      <td>1.000000</td>\n",
       "    </tr>\n",
       "    <tr>\n",
       "      <th>75%</th>\n",
       "      <td>2.509042e-03</td>\n",
       "      <td>2.530238e-02</td>\n",
       "      <td>7.173094e-03</td>\n",
       "      <td>2.868212e-04</td>\n",
       "      <td>1.000000</td>\n",
       "    </tr>\n",
       "    <tr>\n",
       "      <th>max</th>\n",
       "      <td>5.622305e-03</td>\n",
       "      <td>5.747638e-02</td>\n",
       "      <td>1.539378e-02</td>\n",
       "      <td>6.707065e-04</td>\n",
       "      <td>4.000000</td>\n",
       "    </tr>\n",
       "  </tbody>\n",
       "</table>\n",
       "</div>"
      ],
      "text/plain": [
       "                 H2            CO          C2H4          C2H2       category\n",
       "count  8.820000e+05  8.820000e+05  8.820000e+05  8.820000e+05  882000.000000\n",
       "mean   1.770710e-03  1.707246e-02  4.809312e-03  1.937473e-04       1.425714\n",
       "std    9.164189e-04  1.023960e-02  2.868620e-03  1.154310e-04       0.950542\n",
       "min    1.784526e-08  1.496807e-08  7.865758e-09  7.897411e-11       1.000000\n",
       "25%    1.022670e-03  8.308363e-03  2.383507e-03  9.677079e-05       1.000000\n",
       "50%    1.796790e-03  1.690838e-02  4.763536e-03  1.938408e-04       1.000000\n",
       "75%    2.509042e-03  2.530238e-02  7.173094e-03  2.868212e-04       1.000000\n",
       "max    5.622305e-03  5.747638e-02  1.539378e-02  6.707065e-04       4.000000"
      ]
     },
     "execution_count": 5,
     "metadata": {},
     "output_type": "execute_result"
    }
   ],
   "source": [
    "result.describe()"
   ]
  },
  {
   "cell_type": "code",
   "execution_count": 9,
   "id": "previous-sellers",
   "metadata": {},
   "outputs": [
    {
     "data": {
      "text/plain": [
       "(array([1.0097e+04, 1.6419e+04, 2.4449e+04, 2.5752e+04, 2.5964e+04,\n",
       "        2.7155e+04, 3.0417e+04, 2.9393e+04, 2.8284e+04, 2.9575e+04,\n",
       "        3.2512e+04, 3.2743e+04, 3.3099e+04, 2.9433e+04, 3.1959e+04,\n",
       "        3.4585e+04, 3.4419e+04, 3.4370e+04, 3.6239e+04, 3.5091e+04,\n",
       "        3.4985e+04, 3.4878e+04, 3.2227e+04, 3.4056e+04, 3.8513e+04,\n",
       "        3.7454e+04, 2.6628e+04, 1.7850e+04, 1.0964e+04, 7.7530e+03,\n",
       "        6.0400e+03, 4.7450e+03, 3.6400e+03, 2.8350e+03, 2.1900e+03,\n",
       "        1.6660e+03, 1.1960e+03, 8.3000e+02, 5.8100e+02, 3.7400e+02,\n",
       "        2.1500e+02, 1.5600e+02, 1.0700e+02, 6.2000e+01, 2.1000e+01,\n",
       "        1.9000e+01, 2.0000e+01, 1.8000e+01, 1.1000e+01, 1.1000e+01]),\n",
       " array([1.78452565e-08, 1.12463579e-04, 2.24909312e-04, 3.37355046e-04,\n",
       "        4.49800779e-04, 5.62246513e-04, 6.74692246e-04, 7.87137980e-04,\n",
       "        8.99583714e-04, 1.01202945e-03, 1.12447518e-03, 1.23692091e-03,\n",
       "        1.34936665e-03, 1.46181238e-03, 1.57425811e-03, 1.68670385e-03,\n",
       "        1.79914958e-03, 1.91159532e-03, 2.02404105e-03, 2.13648678e-03,\n",
       "        2.24893252e-03, 2.36137825e-03, 2.47382398e-03, 2.58626972e-03,\n",
       "        2.69871545e-03, 2.81116118e-03, 2.92360692e-03, 3.03605265e-03,\n",
       "        3.14849838e-03, 3.26094412e-03, 3.37338985e-03, 3.48583558e-03,\n",
       "        3.59828132e-03, 3.71072705e-03, 3.82317279e-03, 3.93561852e-03,\n",
       "        4.04806425e-03, 4.16050999e-03, 4.27295572e-03, 4.38540145e-03,\n",
       "        4.49784719e-03, 4.61029292e-03, 4.72273865e-03, 4.83518439e-03,\n",
       "        4.94763012e-03, 5.06007585e-03, 5.17252159e-03, 5.28496732e-03,\n",
       "        5.39741305e-03, 5.50985879e-03, 5.62230452e-03]),\n",
       " <BarContainer object of 50 artists>)"
      ]
     },
     "execution_count": 9,
     "metadata": {},
     "output_type": "execute_result"
    },
    {
     "data": {
      "image/png": "[encoded data removed]",
      "text/plain": [
       "<Figure size 432x288 with 1 Axes>"
      ]
     },
     "metadata": {
      "needs_background": "light"
     },
     "output_type": "display_data"
    }
   ],
   "source": [
    "plt.hist(result[\"H2\"], bins=50)"
   ]
  },
  {
   "cell_type": "code",
   "execution_count": 28,
   "id": "typical-induction",
   "metadata": {},
   "outputs": [
    {
     "data": {
      "text/plain": [
       "Text(0.5, 1.0, 'c2h4')"
      ]
     },
     "execution_count": 28,
     "metadata": {},
     "output_type": "execute_result"
    },
    {
     "data": {
      "image/png": "[encoded data removed]",
      "text/plain": [
       "<Figure size 1332x396 with 4 Axes>"
      ]
     },
     "metadata": {
      "needs_background": "light"
     },
     "output_type": "display_data"
    }
   ],
   "source": [
    "fig, axs = plt.subplots(1, 4)\n",
    "n_bins = 100\n",
    "fig.set_size_inches(18.5, 5.5)\n",
    "axs[0].hist(result['H2'], bins=n_bins, density=True)\n",
    "axs[0].set_title('H2')\n",
    "axs[1].hist(result['CO'], bins=n_bins)\n",
    "axs[1].set_title('H2')\n",
    "axs[2].hist(result['C2H2'], bins=n_bins)\n",
    "axs[2].set_title('c2h32')\n",
    "axs[3].hist(result['C2H4'], bins=n_bins)\n",
    "axs[3].set_title('c2h4')"
   ]
  },
  {
   "cell_type": "code",
   "execution_count": 2,
   "id": "fifth-jewelry",
   "metadata": {},
   "outputs": [
    {
     "ename": "NameError",
     "evalue": "name 'result' is not defined",
     "output_type": "error",
     "traceback": [
      "\u001b[1;31m---------------------------------------------------------------------------\u001b[0m",
      "\u001b[1;31mNameError\u001b[0m                                 Traceback (most recent call last)",
      "\u001b[1;32m<ipython-input-2-1a7a21abac94>\u001b[0m in \u001b[0;36m<module>\u001b[1;34m\u001b[0m\n\u001b[0;32m      1\u001b[0m \u001b[1;32mfor\u001b[0m \u001b[0mk\u001b[0m \u001b[1;32min\u001b[0m \u001b[0mrange\u001b[0m\u001b[1;33m(\u001b[0m\u001b[1;36m1\u001b[0m\u001b[1;33m,\u001b[0m \u001b[1;36m5\u001b[0m\u001b[1;33m)\u001b[0m\u001b[1;33m:\u001b[0m\u001b[1;33m\u001b[0m\u001b[1;33m\u001b[0m\u001b[0m\n\u001b[1;32m----> 2\u001b[1;33m     \u001b[0mr\u001b[0m \u001b[1;33m=\u001b[0m \u001b[0mresult\u001b[0m\u001b[1;33m[\u001b[0m\u001b[0mresult\u001b[0m\u001b[1;33m[\u001b[0m\u001b[1;34m\"category\"\u001b[0m\u001b[1;33m]\u001b[0m\u001b[1;33m==\u001b[0m\u001b[0mk\u001b[0m\u001b[1;33m]\u001b[0m\u001b[1;33m\u001b[0m\u001b[1;33m\u001b[0m\u001b[0m\n\u001b[0m\u001b[0;32m      3\u001b[0m     \u001b[0mfig\u001b[0m\u001b[1;33m,\u001b[0m \u001b[0maxs\u001b[0m \u001b[1;33m=\u001b[0m \u001b[0mplt\u001b[0m\u001b[1;33m.\u001b[0m\u001b[0msubplots\u001b[0m\u001b[1;33m(\u001b[0m\u001b[1;36m1\u001b[0m\u001b[1;33m,\u001b[0m \u001b[1;36m4\u001b[0m\u001b[1;33m)\u001b[0m\u001b[1;33m\u001b[0m\u001b[1;33m\u001b[0m\u001b[0m\n\u001b[0;32m      4\u001b[0m     \u001b[0mn_bins\u001b[0m \u001b[1;33m=\u001b[0m \u001b[1;36m100\u001b[0m\u001b[1;33m\u001b[0m\u001b[1;33m\u001b[0m\u001b[0m\n\u001b[0;32m      5\u001b[0m     \u001b[0mfig\u001b[0m\u001b[1;33m.\u001b[0m\u001b[0mset_size_inches\u001b[0m\u001b[1;33m(\u001b[0m\u001b[1;36m18.5\u001b[0m\u001b[1;33m,\u001b[0m \u001b[1;36m5.5\u001b[0m\u001b[1;33m)\u001b[0m\u001b[1;33m\u001b[0m\u001b[1;33m\u001b[0m\u001b[0m\n",
      "\u001b[1;31mNameError\u001b[0m: name 'result' is not defined"
     ]
    }
   ],
   "source": [
    "for k in range(1, 5):\n",
    "    r = result[result[\"category\"]==k]\n",
    "    fig, axs = plt.subplots(1, 4)\n",
    "    n_bins = 100\n",
    "    fig.set_size_inches(18.5, 5.5)\n",
    "    axs[0].hist(r['H2'], bins=n_bins)\n",
    "    axs[0].set_title('H2')\n",
    "    axs[1].hist(r['CO'], bins=n_bins)\n",
    "    axs[1].set_title('H2')\n",
    "    axs[2].hist(r['C2H2'], bins=n_bins)\n",
    "    axs[2].set_title('c2h32')\n",
    "    axs[3].hist(r['C2H4'], bins=n_bins)\n",
    "    axs[3].set_title('c2h4')"
   ]
  },
  {
   "cell_type": "code",
   "execution_count": 33,
   "id": "metropolitan-strike",
   "metadata": {},
   "outputs": [],
   "source": [
    "r = [result[result[\"category\"]==k][\"H2\"] for k in range(1, 5)]\n"
   ]
  },
  {
   "cell_type": "code",
   "execution_count": 38,
   "id": "hearing-static",
   "metadata": {},
   "outputs": [
    {
     "data": {
      "text/plain": [
       "<matplotlib.legend.Legend at 0x28d9022c8e0>"
      ]
     },
     "execution_count": 38,
     "metadata": {},
     "output_type": "execute_result"
    },
    {
     "data": {
      "image/png": "[encoded data removed]",
      "text/plain": [
       "<Figure size 432x288 with 1 Axes>"
      ]
     },
     "metadata": {
      "needs_background": "light"
     },
     "output_type": "display_data"
    }
   ],
   "source": [
    "plt.hist(r, bins = 100, stacked=True,\n",
    "         label = [1, 2, 3, 4])\n",
    "plt.legend()"
   ]
  },
  {
   "cell_type": "code",
   "execution_count": 41,
   "id": "described-draft",
   "metadata": {},
   "outputs": [
    {
     "data": {
      "text/plain": [
       "[<matplotlib.lines.Line2D at 0x28d91a68b50>]"
      ]
     },
     "execution_count": 41,
     "metadata": {},
     "output_type": "execute_result"
    },
    {
     "data": {
      "image/png": "[encoded data removed]",
      "text/plain": [
       "<Figure size 432x288 with 1 Axes>"
      ]
     },
     "metadata": {
      "needs_background": "light"
     },
     "output_type": "display_data"
    }
   ],
   "source": [
    "plt.figure()\n",
    "plt.plot(result[\"CO\"][:420])"
   ]
  },
  {
   "cell_type": "code",
   "execution_count": 42,
   "id": "faced-annual",
   "metadata": {},
   "outputs": [
    {
     "ename": "ModuleNotFoundError",
     "evalue": "No module named 'statsmodels'",
     "output_type": "error",
     "traceback": [
      "\u001b[1;31m---------------------------------------------------------------------------\u001b[0m",
      "\u001b[1;31mModuleNotFoundError\u001b[0m                       Traceback (most recent call last)",
      "\u001b[1;32m<ipython-input-42-45ac93bcfff8>\u001b[0m in \u001b[0;36m<module>\u001b[1;34m\u001b[0m\n\u001b[1;32m----> 1\u001b[1;33m \u001b[1;32mimport\u001b[0m \u001b[0mstatsmodels\u001b[0m\u001b[1;33m\u001b[0m\u001b[1;33m\u001b[0m\u001b[0m\n\u001b[0m",
      "\u001b[1;31mModuleNotFoundError\u001b[0m: No module named 'statsmodels'"
     ]
    }
   ],
   "source": [
    "import statsmodels"
   ]
  }
 ],
 "metadata": {
  "kernelspec": {
   "display_name": "Python 3",
   "language": "python",
   "name": "python3"
  },
  "language_info": {
   "codemirror_mode": {
    "name": "ipython",
    "version": 3
   },
   "file_extension": ".py",
   "mimetype": "text/x-python",
   "name": "python",
   "nbconvert_exporter": "python",
   "pygments_lexer": "ipython3",
   "version": "3.8.7"
  }
 },
 "nbformat": 4,
 "nbformat_minor": 5
}
